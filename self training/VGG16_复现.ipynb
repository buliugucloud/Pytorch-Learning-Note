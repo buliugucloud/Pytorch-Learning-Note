{
 "cells": [
  {
   "cell_type": "code",
   "execution_count": 1,
   "id": "4045d626",
   "metadata": {},
   "outputs": [],
   "source": [
    "import torch\n",
    "from torch import nn\n",
    "from d2l import torch as d2l"
   ]
  },
  {
   "cell_type": "code",
   "execution_count": 16,
   "id": "b33db31d",
   "metadata": {},
   "outputs": [],
   "source": [
    "# 四个参数分别对应卷积层的数量num_convs、块的输入通道的数量in_channels 、块的输出通道的数量out_channels 和最后一层卷积是否1×1\n",
    "def vgg_block(num_convs, in_channels, out_channels, last_1_1_kernel = False):\n",
    "    layers = []\n",
    "    kernel_size = 3\n",
    "    # 每个VGG Block首先由一组卷积层+ReLU组成\n",
    "    for _ in range(num_convs):\n",
    "        layers.append(nn.Conv2d(in_channels,out_channels,kernel_size, padding=1))\n",
    "        layers.append(nn.ReLU())\n",
    "        in_channels = out_channels\n",
    "    # 如果末尾是1×1的卷积核，则也需要进行添加\n",
    "    if last_1_1_kernel:\n",
    "        layers.append(nn.Conv2d(in_channels,out_channels,1, padding=0))\n",
    "        layers.append(nn.ReLU())\n",
    "    # 块末尾加上max_pooling层\n",
    "    layers.append(nn.MaxPool2d(kernel_size=2, stride=2))\n",
    "    return nn.Sequential(*layers)"
   ]
  },
  {
   "cell_type": "code",
   "execution_count": 19,
   "id": "de3ef660",
   "metadata": {},
   "outputs": [],
   "source": [
    "# VGG网络由5个VGG块+三层全连接层组合而成\n",
    "# 下面的结构是VGG-16网络\n",
    "conv_arch = ((2, 64, False), (2, 128, False), (2, 256, True), (2, 512, True), (2, 512, True))  # VGG-16原论文中第3、4、5块的最后一层卷积为1×1的核，因此后三层的num_layer先写为2\n",
    "def vgg16_net(conv_arch):\n",
    "    conv_block = []\n",
    "    in_channel = 1\n",
    "    for num_layer, out_channel, last_1_1_kernel in conv_arch:\n",
    "        conv_block.append(vgg_block(num_layer, in_channel, out_channel, last_1_1_kernel))\n",
    "        in_channel = out_channel\n",
    "    return nn.Sequential(\n",
    "        *conv_block, nn.Flatten(),\n",
    "        # 全连接层部分\n",
    "        nn.Linear(out_channel * 7 * 7, 4096), nn.ReLU(), nn.Dropout(0.5),\n",
    "        nn.Linear(4096, 4096), nn.ReLU(), nn.Dropout(0.5),\n",
    "        nn.Linear(4096, 1000))"
   ]
  },
  {
   "cell_type": "code",
   "execution_count": 20,
   "id": "41ca5d4d",
   "metadata": {},
   "outputs": [
    {
     "name": "stdout",
     "output_type": "stream",
     "text": [
      "Sequential output shape:\t torch.Size([1, 64, 112, 112])\n",
      "Sequential output shape:\t torch.Size([1, 128, 56, 56])\n",
      "Sequential output shape:\t torch.Size([1, 256, 28, 28])\n",
      "Sequential output shape:\t torch.Size([1, 512, 14, 14])\n",
      "Sequential output shape:\t torch.Size([1, 512, 7, 7])\n",
      "Flatten output shape:\t torch.Size([1, 25088])\n",
      "Linear output shape:\t torch.Size([1, 4096])\n",
      "ReLU output shape:\t torch.Size([1, 4096])\n",
      "Dropout output shape:\t torch.Size([1, 4096])\n",
      "Linear output shape:\t torch.Size([1, 4096])\n",
      "ReLU output shape:\t torch.Size([1, 4096])\n",
      "Dropout output shape:\t torch.Size([1, 4096])\n",
      "Linear output shape:\t torch.Size([1, 1000])\n"
     ]
    }
   ],
   "source": [
    "net = vgg16_net(conv_arch)\n",
    "# 观察每个层输出的形状\n",
    "X = torch.randn(size=(1, 1, 224, 224))\n",
    "for blk in net:\n",
    "    X = blk(X)\n",
    "    print(blk.__class__.__name__,'output shape:\\t',X.shape)"
   ]
  },
  {
   "cell_type": "code",
   "execution_count": null,
   "id": "cd816432",
   "metadata": {},
   "outputs": [],
   "source": [
    "# 由于计算量过大，我的CPU瑟瑟发抖，所以就不具体训练了！"
   ]
  }
 ],
 "metadata": {
  "kernelspec": {
   "display_name": "Python 3 (ipykernel)",
   "language": "python",
   "name": "python3"
  },
  "language_info": {
   "codemirror_mode": {
    "name": "ipython",
    "version": 3
   },
   "file_extension": ".py",
   "mimetype": "text/x-python",
   "name": "python",
   "nbconvert_exporter": "python",
   "pygments_lexer": "ipython3",
   "version": "3.8.12"
  }
 },
 "nbformat": 4,
 "nbformat_minor": 5
}
