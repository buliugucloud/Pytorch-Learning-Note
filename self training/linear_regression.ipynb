{
 "cells": [
  {
   "cell_type": "code",
   "execution_count": 2,
   "metadata": {},
   "outputs": [],
   "source": [
    "import numpy as np\n",
    "import torch\n",
    "from d2l import torch as d2l\n",
    "from torch.utils import data\n",
    "from torch import nn"
   ]
  },
  {
   "cell_type": "code",
   "execution_count": 3,
   "metadata": {},
   "outputs": [],
   "source": [
    "def load_array(data_arrays, batch_size, is_shuffle=True):\n",
    "    \"\"\"构造一个PyTorch数据迭代器\"\"\"\n",
    "    dataset = data.TensorDataset(*data_arrays)\n",
    "    return data.DataLoader(dataset, batch_size, shuffle=is_shuffle)"
   ]
  },
  {
   "cell_type": "code",
   "execution_count": 4,
   "metadata": {},
   "outputs": [
    {
     "name": "stdout",
     "output_type": "stream",
     "text": [
      "epoch 1, loss 0.000219\n",
      "epoch 2, loss 0.000100\n",
      "epoch 3, loss 0.000099\n"
     ]
    }
   ],
   "source": [
    "true_w = torch.Tensor([2.4, -3.2])  # 必须转成tensor的形式\n",
    "true_b = 4.2\n",
    "num_examples = 1000\n",
    "batch_size = 10\n",
    "features, labels = d2l.synthetic_data(true_w, true_b, num_examples)\n",
    "data_iter = load_array((features, labels), batch_size)\n",
    "\n",
    "# 通过next函数转为Python中的迭代器\n",
    "next(iter(data_iter))\n",
    "\n",
    "# 使用架构的预定义好的层\n",
    "net = nn.Sequential(nn.Linear(2,1))\n",
    "\n",
    "# 初始化模型参数\n",
    "net[0].weight.data.normal_(0,0.01)\n",
    "net[0].bias.data.fill_(0)\n",
    "\n",
    "# loss选用均方误差——L2范数\n",
    "loss = nn.MSELoss()\n",
    "\n",
    "# 实例化SGD实例\n",
    "trainer = torch.optim.SGD(net.parameters(), lr = 0.03)\n",
    "\n",
    "# 开始训练\n",
    "num_epochs = 3\n",
    "for epoch in range(0, num_epochs, 1):\n",
    "    for X,y in data_iter:\n",
    "        l = loss(net(X),y)\n",
    "        trainer.zero_grad()  # 梯度清0\n",
    "        l.backward()         # y是向量时，pytorch已经做好了变量sum合成新变量的过程，不需要自己写\n",
    "        trainer.step()\n",
    "    l = loss(net(features), labels)\n",
    "    print(f'epoch {epoch+1}, loss {l:f}')"
   ]
  },
  {
   "cell_type": "code",
   "execution_count": null,
   "metadata": {},
   "outputs": [],
   "source": []
  }
 ],
 "metadata": {
  "kernelspec": {
   "display_name": "Python 3 (ipykernel)",
   "language": "python",
   "name": "python3"
  },
  "language_info": {
   "codemirror_mode": {
    "name": "ipython",
    "version": 3
   },
   "file_extension": ".py",
   "mimetype": "text/x-python",
   "name": "python",
   "nbconvert_exporter": "python",
   "pygments_lexer": "ipython3",
   "version": "3.8.12"
  }
 },
 "nbformat": 4,
 "nbformat_minor": 4
}
