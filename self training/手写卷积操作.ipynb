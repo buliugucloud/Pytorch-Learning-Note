{
 "cells": [
  {
   "cell_type": "code",
   "execution_count": 1,
   "id": "9dfa2e86",
   "metadata": {},
   "outputs": [],
   "source": [
    "import torch\n",
    "import torch.nn as nn"
   ]
  },
  {
   "cell_type": "code",
   "execution_count": 2,
   "id": "c30728f0",
   "metadata": {},
   "outputs": [],
   "source": [
    "# 卷积对输入图X通过卷积核K进行卷积操作的函数\n",
    "def My_conv2d(X, K):\n",
    "    h, w = K.shape\n",
    "    Y = torch.zeros((X.shape[0] - h + 1, X.shape[1] - w + 1))\n",
    "    for i in range(Y.shape[0]):\n",
    "        for j in range(Y.shape[1]):\n",
    "            Y[i, j] = (X[i:i+h, j:j+w] * K).sum()\n",
    "    return Y"
   ]
  },
  {
   "cell_type": "code",
   "execution_count": 7,
   "id": "fd5bd602",
   "metadata": {},
   "outputs": [
    {
     "name": "stdout",
     "output_type": "stream",
     "text": [
      "original X: \n",
      "tensor([[0., 1., 2.],\n",
      "        [3., 4., 5.],\n",
      "        [6., 7., 8.]])\n",
      "convolution kernel K: \n",
      "tensor([[0., 1.],\n",
      "        [2., 3.]])\n",
      "\n",
      "after convolution: \n",
      "tensor([[19., 25.],\n",
      "        [37., 43.]])\n"
     ]
    }
   ],
   "source": [
    "X = torch.tensor([[0.0, 1.0, 2.0], [3.0, 4.0, 5.0], [6.0, 7.0, 8.0]])\n",
    "print(\"original X: \")\n",
    "print(X)\n",
    "K = torch.tensor([[0.0, 1.0], [2.0, 3.0]])\n",
    "print(\"convolution kernel K: \")\n",
    "print(K)\n",
    "print(\"\\nafter convolution: \")\n",
    "print(My_conv2d(X, K))"
   ]
  },
  {
   "cell_type": "code",
   "execution_count": 9,
   "id": "50912239",
   "metadata": {},
   "outputs": [
    {
     "data": {
      "text/plain": [
       "tensor([[1., 1., 0., 0., 0., 0., 1., 1.],\n",
       "        [1., 1., 0., 0., 0., 0., 1., 1.],\n",
       "        [1., 1., 0., 0., 0., 0., 1., 1.],\n",
       "        [1., 1., 0., 0., 0., 0., 1., 1.],\n",
       "        [1., 1., 0., 0., 0., 0., 1., 1.],\n",
       "        [1., 1., 0., 0., 0., 0., 1., 1.]])"
      ]
     },
     "execution_count": 9,
     "metadata": {},
     "output_type": "execute_result"
    }
   ],
   "source": [
    "# 利用简单卷积核对自己写的卷积函数的正确性进行验证\n",
    "X = torch.ones((6, 8))\n",
    "X[:, 2:6] = 0\n",
    "X"
   ]
  },
  {
   "cell_type": "code",
   "execution_count": 11,
   "id": "0591f084",
   "metadata": {},
   "outputs": [
    {
     "data": {
      "text/plain": [
       "tensor([[ 1., -1.]])"
      ]
     },
     "execution_count": 11,
     "metadata": {},
     "output_type": "execute_result"
    }
   ],
   "source": [
    "# 类似检测竖直边缘的卷积核\n",
    "K = torch.tensor([[1.0, -1.0]])\n",
    "K"
   ]
  },
  {
   "cell_type": "code",
   "execution_count": 13,
   "id": "21c2b4bf",
   "metadata": {},
   "outputs": [
    {
     "data": {
      "text/plain": [
       "tensor([[ 0.,  1.,  0.,  0.,  0., -1.,  0.],\n",
       "        [ 0.,  1.,  0.,  0.,  0., -1.,  0.],\n",
       "        [ 0.,  1.,  0.,  0.,  0., -1.,  0.],\n",
       "        [ 0.,  1.,  0.,  0.,  0., -1.,  0.],\n",
       "        [ 0.,  1.,  0.,  0.,  0., -1.,  0.],\n",
       "        [ 0.,  1.,  0.,  0.,  0., -1.,  0.]])"
      ]
     },
     "execution_count": 13,
     "metadata": {},
     "output_type": "execute_result"
    }
   ],
   "source": [
    "Y = My_conv2d(X, K)\n",
    "Y"
   ]
  },
  {
   "cell_type": "code",
   "execution_count": 18,
   "id": "fb9327cf",
   "metadata": {},
   "outputs": [],
   "source": [
    "# 将手写的卷积操作放入自定义的卷积层\n",
    "class My_Con2D(nn.Module):\n",
    "    def __init__(self, kernel_size):\n",
    "        super().__init__()\n",
    "        self.weight = nn.Parameter(torch.rand(kernel_size))\n",
    "        self.bias = nn.Parameter(torch.zeros(1))\n",
    "        \n",
    "    def forward(self, X):\n",
    "        return My_conv2d(X, self.weight) + self.bias"
   ]
  },
  {
   "cell_type": "code",
   "execution_count": 22,
   "id": "7ad5b043",
   "metadata": {},
   "outputs": [
    {
     "name": "stdout",
     "output_type": "stream",
     "text": [
      "loss of epoch0: 12.589\n",
      "loss of epoch1: 11.174\n",
      "loss of epoch2: 10.025\n",
      "loss of epoch3: 9.092\n",
      "loss of epoch4: 8.334\n",
      "loss of epoch5: 7.717\n",
      "loss of epoch6: 7.214\n",
      "loss of epoch7: 6.805\n",
      "loss of epoch8: 6.470\n",
      "loss of epoch9: 6.195\n"
     ]
    }
   ],
   "source": [
    "# 手写一个梯度下降来对卷积核参数进行学习\n",
    "# 构造一个二维卷积层，它具有1个输出通道和形状为（1，2）的卷积核\n",
    "my_conv2d = My_Con2D(kernel_size=(1, 2))\n",
    "\n",
    "# 这个二维卷积层使用四维输入和输出格式（批量大小、通道、高度、宽度），\n",
    "# 其中批量大小和通道数都为1\n",
    "X = torch.rand(6,8)\n",
    "Y = torch.rand(6,7)\n",
    "\n",
    "learning_rate = 0.002\n",
    "epoch_num = 10\n",
    "for i in range(epoch_num):\n",
    "    Y_hat = my_conv2d(X)\n",
    "    l = ((Y_hat - Y)**2).sum()  # 计算MSE作为loss\n",
    "    my_conv2d.zero_grad()  # 计算梯度\n",
    "    l.backward()  # 反向传播计算梯度\n",
    "    # 参数更新，具体学习过程\n",
    "    my_conv2d.weight.data[:] -= learning_rate * my_conv2d.weight.grad\n",
    "    print(\"loss of epoch\"+ str(i)+\": \" + f'{l:.3f}')\n"
   ]
  },
  {
   "cell_type": "code",
   "execution_count": null,
   "id": "5cb4d0c2",
   "metadata": {},
   "outputs": [],
   "source": []
  }
 ],
 "metadata": {
  "kernelspec": {
   "display_name": "Python 3 (ipykernel)",
   "language": "python",
   "name": "python3"
  },
  "language_info": {
   "codemirror_mode": {
    "name": "ipython",
    "version": 3
   },
   "file_extension": ".py",
   "mimetype": "text/x-python",
   "name": "python",
   "nbconvert_exporter": "python",
   "pygments_lexer": "ipython3",
   "version": "3.8.12"
  }
 },
 "nbformat": 4,
 "nbformat_minor": 5
}
